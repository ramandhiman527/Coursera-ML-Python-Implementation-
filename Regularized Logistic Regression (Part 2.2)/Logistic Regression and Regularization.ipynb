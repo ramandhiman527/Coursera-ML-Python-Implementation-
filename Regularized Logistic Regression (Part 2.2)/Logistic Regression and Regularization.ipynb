{
 "cells": [
  {
   "cell_type": "markdown",
   "id": "529201eb",
   "metadata": {},
   "source": [
    "**Problem context:**\n",
    "    \n",
    "You will implement regularized logistic regression to predict whether microchips from a fabrication plant passes quality assurance (QA).\n",
    "During QA, each microchip goes through various tests to ensure it is functioning correctly.\n",
    "\n",
    "*Suppose you are the product manager of the factory and you have the test results for some microchips on two different tests. \n",
    "From these two tests, you would like to determine whether the microchips should be **accepted** or **rejected**. To help you make the decision, you have a dataset of test results on past microchips, from which you can build a logistic regression model.*"
   ]
  },
  {
   "cell_type": "markdown",
   "id": "a6e3b935",
   "metadata": {},
   "source": [
    "Similar to the linear regression, even logistic regression is prone to overfitting if there are large number of features. \n",
    "If the decision boundary is overfit, the shape might be highly contorted to fit only the training data while failing to\n",
    "generalise for the unseen data.\n",
    "\n",
    "So, the **cost function** of the logistic regression is updated to penalize high values of the parameters and is given by,\n",
    "\n",
    "$ J(θ) = -\\frac{1}{m} \\sum_{i=1}^{m} \\left(y^{(i)} log(h_θ(x^{(i)}) + (1 − y^{(i)}) log(1 − h_θ(x^{(i)}))\\right) + \\frac{λ}{2mn} \\sum_{j=1}^{n} θ^2_j $\n",
    "                                          \n",
    "+ Where\n",
    "                                          \n",
    " $ \\circ \\frac{λ}{2mn} \\sum_{j=1}^{n}θ^2_j $ is the regularization term.\n",
    "                                          \n",
    " $ \\circ λ $ is the regularization factor.                                        \n",
    " \n",
    "                                          \n"
   ]
  },
  {
   "cell_type": "markdown",
   "id": "dcdb7f6d",
   "metadata": {},
   "source": [
    "**Code**"
   ]
  },
  {
   "cell_type": "code",
   "execution_count": 45,
   "id": "9c61eb00",
   "metadata": {},
   "outputs": [],
   "source": [
    "import numpy as np\n",
    "import pandas as pd\n",
    "import matplotlib.pyplot as plt\n",
    "import scipy.optimize as opt\n",
    "import warnings\n",
    "warnings.filterwarnings('ignore')"
   ]
  },
  {
   "cell_type": "code",
   "execution_count": 46,
   "id": "29336141",
   "metadata": {},
   "outputs": [
    {
     "data": {
      "text/html": [
       "<div>\n",
       "<style scoped>\n",
       "    .dataframe tbody tr th:only-of-type {\n",
       "        vertical-align: middle;\n",
       "    }\n",
       "\n",
       "    .dataframe tbody tr th {\n",
       "        vertical-align: top;\n",
       "    }\n",
       "\n",
       "    .dataframe thead th {\n",
       "        text-align: right;\n",
       "    }\n",
       "</style>\n",
       "<table border=\"1\" class=\"dataframe\">\n",
       "  <thead>\n",
       "    <tr style=\"text-align: right;\">\n",
       "      <th></th>\n",
       "      <th>0</th>\n",
       "      <th>1</th>\n",
       "      <th>2</th>\n",
       "    </tr>\n",
       "  </thead>\n",
       "  <tbody>\n",
       "    <tr>\n",
       "      <th>0</th>\n",
       "      <td>0.051267</td>\n",
       "      <td>0.69956</td>\n",
       "      <td>1</td>\n",
       "    </tr>\n",
       "    <tr>\n",
       "      <th>1</th>\n",
       "      <td>-0.092742</td>\n",
       "      <td>0.68494</td>\n",
       "      <td>1</td>\n",
       "    </tr>\n",
       "    <tr>\n",
       "      <th>2</th>\n",
       "      <td>-0.213710</td>\n",
       "      <td>0.69225</td>\n",
       "      <td>1</td>\n",
       "    </tr>\n",
       "    <tr>\n",
       "      <th>3</th>\n",
       "      <td>-0.375000</td>\n",
       "      <td>0.50219</td>\n",
       "      <td>1</td>\n",
       "    </tr>\n",
       "    <tr>\n",
       "      <th>4</th>\n",
       "      <td>-0.513250</td>\n",
       "      <td>0.46564</td>\n",
       "      <td>1</td>\n",
       "    </tr>\n",
       "  </tbody>\n",
       "</table>\n",
       "</div>"
      ],
      "text/plain": [
       "          0        1  2\n",
       "0  0.051267  0.69956  1\n",
       "1 -0.092742  0.68494  1\n",
       "2 -0.213710  0.69225  1\n",
       "3 -0.375000  0.50219  1\n",
       "4 -0.513250  0.46564  1"
      ]
     },
     "execution_count": 46,
     "metadata": {},
     "output_type": "execute_result"
    }
   ],
   "source": [
    "# Read the data under week 3s content as \"ex2data2\"\n",
    "data = pd.read_csv('ex2data2.txt', header = None)\n",
    "X = data.iloc[:,:-1]\n",
    "y = data.iloc[:,2]\n",
    "data.head()"
   ]
  },
  {
   "cell_type": "markdown",
   "id": "6c37ae25",
   "metadata": {},
   "source": [
    "So we have two independent features and one dependent variable. Here 0 means the chip has been rejected and 1 means accepted."
   ]
  },
  {
   "cell_type": "markdown",
   "id": "6bcd03e8",
   "metadata": {},
   "source": [
    "**Visualizing the data**"
   ]
  },
  {
   "cell_type": "code",
   "execution_count": 47,
   "id": "4849ae59",
   "metadata": {},
   "outputs": [
    {
     "data": {
      "image/png": "[encoded data removed]",
      "text/plain": [
       "<Figure size 432x288 with 1 Axes>"
      ]
     },
     "metadata": {
      "needs_background": "light"
     },
     "output_type": "display_data"
    }
   ],
   "source": [
    "mask = y == 1\n",
    "passed = plt.scatter(X [mask][0].values, X[mask][1].values)\n",
    "failed = plt.scatter(X [~ mask][0].values, X[~ mask][1].values)\n",
    "plt.xlabel('Microchip Test1')\n",
    "plt.ylabel('Microchip Test2')\n",
    "plt.legend((passed, failed), ('Passed', 'Failed'))\n",
    "plt.show()"
   ]
  },
  {
   "cell_type": "markdown",
   "id": "249dad48",
   "metadata": {},
   "source": [
    " *A straight-forward application of logistic regression will not perform well on this dataset since logistic regression will only be able to find a linear decision boundary.*"
   ]
  },
  {
   "cell_type": "markdown",
   "id": "7ca450f7",
   "metadata": {},
   "source": [
    "**Feature Mapping**\n",
    "\n",
    "One way to fit the data better is to create more features from each data point."
   ]
  },
  {
   "cell_type": "markdown",
   "id": "da6a9b62",
   "metadata": {},
   "source": [
    "$$ mapFeature (X) = \\begin{bmatrix} 1 \\\\ x_1 \\\\ x_2 \\\\ x^2_1 \\\\ x_1x_2 \\\\ x^2_2 \\\\ x^3_1 \\\\ \\vdots \\\\ x_1x^5_2 \\\\ x^6_2 \\end{bmatrix} $$\n",
    "\n",
    "As a result of this mapping, our vector of two features (the scores on two QA tests) has been transformed into a 28-dimensional vector. A logistic regression classifier trained on this higher-dimension feature vector will have a more complex decision boundary and will appear nonlinear when drawn in our 2-dimensional plot."
   ]
  },
  {
   "cell_type": "markdown",
   "id": "f2b38bef",
   "metadata": {},
   "source": [
    "*In the next parts of the exercise, we will implement regularized logistic regression to fit the data and also see  how regularization can help combat the **over fitting** problem.*"
   ]
  },
  {
   "cell_type": "code",
   "execution_count": 48,
   "id": "eef8d4d2",
   "metadata": {},
   "outputs": [],
   "source": [
    "def mapFeature(X1, X2):\n",
    "    degree = 6\n",
    "    out = np.ones(X.shape[0])[:, np.newaxis]\n",
    "    for i in range(1, degree+1):\n",
    "        for j in range(i+1):\n",
    "            out = np.hstack((out, np.multiply(np.power(X1, i-j), \n",
    "                                              np.power(X2, j))[:,np.newaxis]))\n",
    "    return out\n",
    "\n",
    "X = mapFeature(X.iloc[:, 0], X.iloc[:, 1])"
   ]
  },
  {
   "cell_type": "markdown",
   "id": "128b7946",
   "metadata": {},
   "source": [
    "### Implementation"
   ]
  },
  {
   "cell_type": "markdown",
   "id": "856bae39",
   "metadata": {},
   "source": [
    "**Sigmoid Function**"
   ]
  },
  {
   "cell_type": "code",
   "execution_count": 49,
   "id": "afa1cce1",
   "metadata": {},
   "outputs": [],
   "source": [
    "def sigmoid(x):\n",
    "    return 1/(1 + np.exp(-x))"
   ]
  },
  {
   "cell_type": "markdown",
   "id": "a8c8b775",
   "metadata": {},
   "source": [
    "**Cost Function**"
   ]
  },
  {
   "cell_type": "code",
   "execution_count": 50,
   "id": "69630210",
   "metadata": {},
   "outputs": [],
   "source": [
    "def lrCostFunction(theta_t, X_t, y_t, lambda_t):\n",
    "    m = len(y_t)\n",
    "    J = (-1 / m) * (y_t.T @ np.log(sigmoid(X_t @ theta_t)) + (1 - y_t.T) @ np.log(1 - sigmoid(X_t @ theta_t)))\n",
    "    reg = (lambda_t /(2 * m)) * (theta_t[1:].T @ theta_t[1:])\n",
    "    J = J + reg\n",
    "    return J"
   ]
  },
  {
   "cell_type": "markdown",
   "id": "483792b2",
   "metadata": {},
   "source": [
    "**Gradient Function**"
   ]
  },
  {
   "cell_type": "markdown",
   "id": "31f7c12f",
   "metadata": {},
   "source": [
    "Previously, the gradient descent for logistic regression without regularization was given by,\n",
    "\n",
    "$ Repeat Until Convergence $\n",
    "\n",
    "$ \\{ $\n",
    "    $ θ_j:= θ_j − α \\frac{1}{m} \\sum_{i=1}^{m} (h(x^{(i)})−y^{(i)}) x^{(i)}_j \n",
    "\\} $\n",
    "\n",
    "$ \\bullet $ where j ∈ {0,1,⋯,n} "
   ]
  },
  {
   "cell_type": "code",
   "execution_count": 51,
   "id": "2c203d69",
   "metadata": {},
   "outputs": [],
   "source": [
    "def lrGradientDescent(theta, X, y, lambda_t):\n",
    "    m = len(y)\n",
    "    grad = np.zeros([m,1])\n",
    "    grad = (1 / m) * X.T @ (sigmoid(X @ theta) - y)\n",
    "    grad[1:] = grad[1:] + (lambda_t / m) * theta[1:]\n",
    "    return grad"
   ]
  },
  {
   "cell_type": "code",
   "execution_count": 52,
   "id": "1a3cda5a",
   "metadata": {},
   "outputs": [],
   "source": [
    "# Initial Parameters\n",
    "(m, n) = X.shape\n",
    "y = y[:, np.newaxis]\n",
    "theta = np.zeros((n,1))\n",
    "lmbda = 1"
   ]
  },
  {
   "cell_type": "code",
   "execution_count": 53,
   "id": "b52a2702",
   "metadata": {},
   "outputs": [
    {
     "name": "stdout",
     "output_type": "stream",
     "text": [
      "[[0.69314718]]\n"
     ]
    }
   ],
   "source": [
    "J = lrCostFunction(theta, X, y, lmbda)\n",
    "print(J)"
   ]
  },
  {
   "cell_type": "markdown",
   "id": "56c37d02",
   "metadata": {},
   "source": [
    "**Learning parameters using fmin_tnc**\n",
    "\n",
    "*fmin_tnc* is an optimization solver that finds the minimum of an unconstrained function. For logistic regression, you want to optimize the cost function with the parameters *theta*."
   ]
  },
  {
   "cell_type": "code",
   "execution_count": 54,
   "id": "137ca61f",
   "metadata": {},
   "outputs": [],
   "source": [
    "output = opt.fmin_tnc(func = lrCostFunction,\n",
    "                      x0 = theta.flatten(),\n",
    "                      fprime = lrGradientDescent,\n",
    "                      args = (X, y.flatten(),\n",
    "                      lmbda))"
   ]
  },
  {
   "cell_type": "code",
   "execution_count": 55,
   "id": "2e3642cc",
   "metadata": {},
   "outputs": [
    {
     "name": "stdout",
     "output_type": "stream",
     "text": [
      "[ 1.27271025  0.62529964  1.18111686 -2.01987398 -0.91743189 -1.43166926\n",
      "  0.12393228 -0.36553117 -0.35725401 -0.1751629  -1.45817009 -0.05098418\n",
      " -0.61558547 -0.27469166 -1.19271297 -0.24217841 -0.20603292 -0.04466179\n",
      " -0.27778956 -0.29539513 -0.45645982 -1.04319155  0.02779373 -0.29244877\n",
      "  0.01555762 -0.32742408 -0.14389151 -0.92467488]\n"
     ]
    }
   ],
   "source": [
    "theta = output[0]\n",
    "print(theta)               # theta contains the optimized values"
   ]
  },
  {
   "cell_type": "markdown",
   "id": "f8bd7d7b",
   "metadata": {},
   "source": [
    "**Note on flatten() function:** Unfortunately scipy’s fmin_tnc doesn’t work well with column or row vector. It expects the parameters to be in an array format. \n",
    "The flatten() function reduces a column or row vector into array format."
   ]
  },
  {
   "cell_type": "markdown",
   "id": "7fb4038b",
   "metadata": {},
   "source": [
    "**Accuracy of model**"
   ]
  },
  {
   "cell_type": "code",
   "execution_count": 56,
   "id": "9e3431ee",
   "metadata": {},
   "outputs": [
    {
     "data": {
      "text/plain": [
       "83.05084745762711"
      ]
     },
     "execution_count": 56,
     "metadata": {},
     "output_type": "execute_result"
    }
   ],
   "source": [
    "pred = [sigmoid(np.dot(X, theta)) >= 0.5]\n",
    "np.mean(pred == y.flatten()) * 100"
   ]
  },
  {
   "cell_type": "markdown",
   "id": "a15439e4",
   "metadata": {},
   "source": [
    "**Plotting Decision Boundary (optional)**\n",
    "\n",
    "To help you visualize the model learned by this classifier, we will plot the (non-linear) decision boundary that separates the positive and negative examples."
   ]
  },
  {
   "cell_type": "code",
   "execution_count": 57,
   "id": "f3304a7d",
   "metadata": {},
   "outputs": [],
   "source": [
    "u = np.linspace(-1, 1.5, 50)\n",
    "v = np.linspace(-1, 1.5, 50)\n",
    "z = np.zeros((len(u), len(v)))"
   ]
  },
  {
   "cell_type": "code",
   "execution_count": 58,
   "id": "13b21a7b",
   "metadata": {},
   "outputs": [],
   "source": [
    "def mapFeatureForPlotting(X1, X2):\n",
    "    degree = 6\n",
    "    out = np.ones(1)\n",
    "    for i in range(1, degree+1):\n",
    "        for j in range(i+1):\n",
    "            out = np.hstack((out, np.multiply(np.power(X1, i-j), np.power(X2, j))))\n",
    "    return out\n",
    "\n",
    "for i in range(len(u)):\n",
    "    for j in range(len(v)):\n",
    "        z[i,j] = np.dot(mapFeatureForPlotting(u[i], v[j]), theta)"
   ]
  },
  {
   "cell_type": "code",
   "execution_count": 59,
   "id": "44527246",
   "metadata": {},
   "outputs": [
    {
     "data": {
      "image/png": "[encoded data removed]",
      "text/plain": [
       "<Figure size 432x288 with 1 Axes>"
      ]
     },
     "metadata": {
      "needs_background": "light"
     },
     "output_type": "display_data"
    }
   ],
   "source": [
    "mask = y.flatten() == 1\n",
    "X = data.iloc[:,:-1]\n",
    "passed = plt.scatter(X[mask][0], X[mask][1])\n",
    "failed = plt.scatter(X[~mask][0], X[~mask][1])\n",
    "plt.contour(u,v,z,0)\n",
    "plt.xlabel('Microchip Test1')\n",
    "plt.ylabel('Microchip Test2')\n",
    "plt.legend((passed, failed), ('Passed', 'Failed'))\n",
    "plt.show()"
   ]
  },
  {
   "cell_type": "markdown",
   "id": "6530ad65",
   "metadata": {},
   "source": [
    "Also try changing the values of **lambda** to see how the decision boundary changes."
   ]
  },
  {
   "cell_type": "code",
   "execution_count": null,
   "id": "951d841c",
   "metadata": {},
   "outputs": [],
   "source": []
  }
 ],
 "metadata": {
  "kernelspec": {
   "display_name": "Python 3",
   "language": "python",
   "name": "python3"
  },
  "language_info": {
   "codemirror_mode": {
    "name": "ipython",
    "version": 3
   },
   "file_extension": ".py",
   "mimetype": "text/x-python",
   "name": "python",
   "nbconvert_exporter": "python",
   "pygments_lexer": "ipython3",
   "version": "3.7.10"
  }
 },
 "nbformat": 4,
 "nbformat_minor": 5
}
