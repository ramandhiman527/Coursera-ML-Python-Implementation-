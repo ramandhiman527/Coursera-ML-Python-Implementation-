{
 "cells": [
  {
   "cell_type": "markdown",
   "id": "fabc26e6",
   "metadata": {},
   "source": [
    "### Logistic Regression - Andrew Ng course implementation"
   ]
  },
  {
   "cell_type": "markdown",
   "id": "abdacfa3",
   "metadata": {},
   "source": [
    "*In a lot of ways, linear regression and logistic regression are similar. Linear regression algorithms are used to predict/forecast values but logistic regression is used for classification tasks.*\n",
    " For example, classifying whether an email is a spam or not, classifying whether a tumour is malignant or benign, classifying whether a website is fraudulent or not, etc."
   ]
  },
  {
   "cell_type": "markdown",
   "id": "c26fd806",
   "metadata": {},
   "source": [
    "**Sigmoid Function (Logistic Function)**\n",
    "\n",
    "The predicted value can be anywhere between negative infinity to positive infinity. We need the output of the algorithm to be class variable, i.e 0-no, 1-yes. Therefore, we are squashing the output of the linear equation into a range of [0,1]. To squash the predicted value between 0 and 1, we use the sigmoid function.\n",
    "\n",
    "Our hypothesis should satisfy:\n",
    "\n",
    "$ 0 \\le h_θ(x) \\le 1 $\n",
    "\n",
    "Sigmoid Function:\n",
    "    \n",
    "$ h_θ(x)=g(θ^T x) $\n",
    "\n",
    "$ z=θ^T x $\n",
    "\n",
    "$ g(z) = 1 / 1+e^−z $\n",
    "\n",
    "*We take the output(z) of the linear equation and give to the function g(x) which returns a squashed value h, the value h will lie in the range of 0 to 1.*"
   ]
  },
  {
   "cell_type": "markdown",
   "id": "33df9080",
   "metadata": {},
   "source": [
    "**Cost Function**\n",
    "\n",
    "we use a logarithmic loss function to calculate the cost for misclassifying. Instead of Mean Squared Error, we use a cost function called Cross-Entropy, also known as Log Loss. Cross-entropy loss can be divided into two separate cost functions: one for y=1 and one for y=0.\n",
    "\n",
    "    \n",
    "$ J(θ) = \\sum \\limits _{i=1} ^{m} Cost(h_θ(x^{(i)}),y^{(i)}) $\n",
    "\n",
    "$ Cost(h_θ (x),y) = −log(h_θ (x))  $      *if y = 1*\n",
    "\n",
    "$ Cost(h_θ (x),y) = −log(1− h_θ (x))  $   *if y = 0*"
   ]
  },
  {
   "cell_type": "markdown",
   "id": "915789fc",
   "metadata": {},
   "source": [
    "**Above functions compressed into one**\n",
    "\n",
    "$ J(θ) = −\\frac{1}{m}\\sum \\limits _{i=1} ^{m} [y^{(i)}log(h_θ(x^{(i)})) + (1− y^{(i)})log(1− h_θ(x^{(i)}))] $"
   ]
  },
  {
   "cell_type": "markdown",
   "id": "bc255c67",
   "metadata": {},
   "source": [
    "**Gradient Descent**\n",
    "\n",
    "$ s′(z)=s(z)(1−s(z)) $\n",
    "\n",
    " convenient cost function derivative,\n",
    "    \n",
    "$ C′=x(s(z)−y) $    \n",
    "\n",
    "**NOTE**\n",
    "+ C′ is the derivative of cost with respect to weights\n",
    "+ y is the actual class label (0 or 1)\n",
    "+ s(z) is your model’s prediction\n",
    "+ x is your feature or feature vector.\n",
    "\n",
    "$ Repeat \\{\n",
    "    θj:=θj−α . \\frac{\\alpha}{m}(h_θ(x^{(i)})−y^{(i)})x^{(i)} . j\n",
    "\\}$"
   ]
  },
  {
   "cell_type": "markdown",
   "id": "e9f48fe5",
   "metadata": {},
   "source": [
    "**Code**"
   ]
  },
  {
   "cell_type": "markdown",
   "id": "e506f715",
   "metadata": {},
   "source": [
    "In this part of the exercise, you will build a logistic regression model to predict whether a student gets admitted into a university.\n",
    "\n",
    "$ \\rhd $ Problem context:\n",
    "    \n",
    "    Suppose that you are the administrator of a university department and you want to determine each applicant’s     chance of admission based on their results on two exams. You have historical data from previous applicants that you can use as a training set for logistic regression. For each training example, you have the applicant’s scores on two exams and the admissions decision.\n",
    "\n",
    "    Your task is to build a classification model that estimates an applicant’s probability of admission based on the scores from those two exams."
   ]
  },
  {
   "cell_type": "code",
   "execution_count": 71,
   "id": "d9551d0b",
   "metadata": {},
   "outputs": [],
   "source": [
    "import numpy as np\n",
    "import pandas as pd\n",
    "import matplotlib.pyplot as plt\n",
    "import scipy.optimize as opt      \n",
    "import warnings\n",
    "warnings.filterwarnings('ignore')"
   ]
  },
  {
   "cell_type": "markdown",
   "id": "4b55a7b8",
   "metadata": {},
   "source": [
    "**Read The Data  - week 3s assignment** "
   ]
  },
  {
   "cell_type": "code",
   "execution_count": 72,
   "id": "91d4160e",
   "metadata": {},
   "outputs": [
    {
     "data": {
      "text/html": [
       "<div>\n",
       "<style scoped>\n",
       "    .dataframe tbody tr th:only-of-type {\n",
       "        vertical-align: middle;\n",
       "    }\n",
       "\n",
       "    .dataframe tbody tr th {\n",
       "        vertical-align: top;\n",
       "    }\n",
       "\n",
       "    .dataframe thead th {\n",
       "        text-align: right;\n",
       "    }\n",
       "</style>\n",
       "<table border=\"1\" class=\"dataframe\">\n",
       "  <thead>\n",
       "    <tr style=\"text-align: right;\">\n",
       "      <th></th>\n",
       "      <th>0</th>\n",
       "      <th>1</th>\n",
       "      <th>2</th>\n",
       "    </tr>\n",
       "  </thead>\n",
       "  <tbody>\n",
       "    <tr>\n",
       "      <th>0</th>\n",
       "      <td>34.623660</td>\n",
       "      <td>78.024693</td>\n",
       "      <td>0</td>\n",
       "    </tr>\n",
       "    <tr>\n",
       "      <th>1</th>\n",
       "      <td>30.286711</td>\n",
       "      <td>43.894998</td>\n",
       "      <td>0</td>\n",
       "    </tr>\n",
       "    <tr>\n",
       "      <th>2</th>\n",
       "      <td>35.847409</td>\n",
       "      <td>72.902198</td>\n",
       "      <td>0</td>\n",
       "    </tr>\n",
       "    <tr>\n",
       "      <th>3</th>\n",
       "      <td>60.182599</td>\n",
       "      <td>86.308552</td>\n",
       "      <td>1</td>\n",
       "    </tr>\n",
       "    <tr>\n",
       "      <th>4</th>\n",
       "      <td>79.032736</td>\n",
       "      <td>75.344376</td>\n",
       "      <td>1</td>\n",
       "    </tr>\n",
       "  </tbody>\n",
       "</table>\n",
       "</div>"
      ],
      "text/plain": [
       "           0          1  2\n",
       "0  34.623660  78.024693  0\n",
       "1  30.286711  43.894998  0\n",
       "2  35.847409  72.902198  0\n",
       "3  60.182599  86.308552  1\n",
       "4  79.032736  75.344376  1"
      ]
     },
     "execution_count": 72,
     "metadata": {},
     "output_type": "execute_result"
    }
   ],
   "source": [
    "data = pd.read_csv('ex2data1.txt', header = None)\n",
    "X = data.iloc[:,: -1]\n",
    "y = data.iloc[:, 2]\n",
    "data.head()"
   ]
  },
  {
   "cell_type": "code",
   "execution_count": 73,
   "id": "98bd40b0",
   "metadata": {},
   "outputs": [
    {
     "name": "stdout",
     "output_type": "stream",
     "text": [
      "(100, 2)\n",
      "(100,)\n"
     ]
    }
   ],
   "source": [
    "print(X.shape)\n",
    "print(y.shape)"
   ]
  },
  {
   "cell_type": "markdown",
   "id": "2f0c04ec",
   "metadata": {},
   "source": [
    "*So we have two independent features and one dependent variable. Here 0 means candidate was unable to get an admission and 1 vice-versa.*"
   ]
  },
  {
   "cell_type": "markdown",
   "id": "fffc60b8",
   "metadata": {},
   "source": [
    "**Visualizing the data**"
   ]
  },
  {
   "cell_type": "code",
   "execution_count": 74,
   "id": "e303d74e",
   "metadata": {},
   "outputs": [
    {
     "data": {
      "image/png": "[encoded data removed]",
      "text/plain": [
       "<Figure size 432x288 with 1 Axes>"
      ]
     },
     "metadata": {
      "needs_background": "light"
     },
     "output_type": "display_data"
    }
   ],
   "source": [
    "mask = y == 1\n",
    "admit = plt.scatter(X[mask][0].values, X[mask][1].values)\n",
    "not_admit = plt.scatter(X[~ mask][0].values, X[~ mask][1].values)\n",
    "plt.xlabel('Exam 1 score')\n",
    "plt.ylabel('Exam 2 score')\n",
    "plt.legend((adm, not_adm), ('Admitted', 'Not admitted'))\n",
    "plt.show()"
   ]
  },
  {
   "cell_type": "markdown",
   "id": "32241f7f",
   "metadata": {},
   "source": [
    "Before actual cost function, logistic regression hypothesis makes use of sigmoid function"
   ]
  },
  {
   "cell_type": "markdown",
   "id": "e058243f",
   "metadata": {},
   "source": [
    "**Sigmoid Function**"
   ]
  },
  {
   "cell_type": "code",
   "execution_count": 75,
   "id": "10eb5116",
   "metadata": {},
   "outputs": [],
   "source": [
    "def sigmoid(x):\n",
    "    return 1 / (1 + np.exp(-x))"
   ]
  },
  {
   "cell_type": "markdown",
   "id": "29e00319",
   "metadata": {},
   "source": [
    "Note that here we are writing the vectorized code. So it really doesn’t matter whether x is a scalar or a vector or a matrix or a tensor"
   ]
  },
  {
   "cell_type": "markdown",
   "id": "033754f5",
   "metadata": {},
   "source": [
    "**Cost function**"
   ]
  },
  {
   "cell_type": "code",
   "execution_count": 76,
   "id": "a562bad5",
   "metadata": {},
   "outputs": [],
   "source": [
    "def costFunction(theta, X, y):\n",
    "    J = (-1 / m) * np.sum(np.multiply(y, np.log(sigmoid(X @ theta))) + np.multiply((1-y), np.log(1 - sigmoid(X @ theta))))\n",
    "    return J"
   ]
  },
  {
   "cell_type": "markdown",
   "id": "43af0b3f",
   "metadata": {},
   "source": [
    "**Gradient Function**\n",
    "\n",
    "A vectorized implementation is:\n",
    "\n",
    "$ \\theta := \\theta - \\frac{\\alpha} {m} X^{T} (g(X \\theta ) - \\vec{y}) $"
   ]
  },
  {
   "cell_type": "code",
   "execution_count": 77,
   "id": "8ba46baf",
   "metadata": {},
   "outputs": [],
   "source": [
    "def gradient(theta, X, y):\n",
    "    return ((1 / m) * X.T @ (sigmoid(X @ theta) - y))"
   ]
  },
  {
   "cell_type": "markdown",
   "id": "b673e37f",
   "metadata": {},
   "source": [
    "Note that while this gradient looks identical to the linear regression gradient, the formula is actually different because linear and logistic regression have different definitions of hypothesis functions."
   ]
  },
  {
   "cell_type": "code",
   "execution_count": 78,
   "id": "5934f6b6",
   "metadata": {},
   "outputs": [],
   "source": [
    "(m, n) = X.shape\n",
    "X = np.hstack((np.ones((m, 1)), X))    #numpy.hstack() function is used to stack the sequence of input arrays horizontally (i.e. column wise) to make a single array.\n",
    "y = y[:, np.newaxis]\n",
    "theta = np.zeros((n+1,1))                # intializing theta with all zeros"
   ]
  },
  {
   "cell_type": "code",
   "execution_count": 79,
   "id": "94385b4f",
   "metadata": {},
   "outputs": [
    {
     "name": "stdout",
     "output_type": "stream",
     "text": [
      "0.6931471805599453\n"
     ]
    }
   ],
   "source": [
    "J = costFunction(theta, X, y)\n",
    "print(J)"
   ]
  },
  {
   "cell_type": "markdown",
   "id": "a5eb392b",
   "metadata": {},
   "source": [
    "**Learning parameters using fmin_tnc**\n",
    "\n",
    " instead of taking the gradient descent steps, we will use a built-in function **fmin_tnc** from scipy library.\n",
    "    **fmin_tnc** is an optimization solver that finds the minimum of an unconstrained function.\n",
    "    Constraints in optimization often refer to constraints on the parameters. For example, constraints that bound the possible values theta can take (e.g., theta ≤ 1). Logistic regression does not have such constraints since theta is allowed to take any real value\n",
    "    \n",
    "    Concretely, you are going to use fmin_tnc to find the best or optimal parameters theta for the logistic regression cost function, given a fixed dataset (of X and y values). \n",
    "You will pass to fmin_tnc the following inputs:\n",
    "+ The initial values of the parameters we are trying to optimize.\n",
    "+ A function that, when given the training set and a particular theta, computes the logistic regression cost and gradient with respect to theta for the dataset (X, y)."
   ]
  },
  {
   "cell_type": "code",
   "execution_count": 80,
   "id": "f246907a",
   "metadata": {},
   "outputs": [
    {
     "name": "stdout",
     "output_type": "stream",
     "text": [
      "[-25.16131857   0.20623159   0.20147149]\n"
     ]
    }
   ],
   "source": [
    "temp = opt.fmin_tnc(func = costFunction, \n",
    "                    x0 = theta.flatten(),\n",
    "                    fprime = gradient, \n",
    "                    args = (X, y.flatten()))\n",
    "\n",
    "#the output of above function is a tuple whose first element contains the optimized values of theta\n",
    "\n",
    "theta_optimized = temp[0]\n",
    "print(theta_optimized)"
   ]
  },
  {
   "cell_type": "markdown",
   "id": "ae968d1f",
   "metadata": {},
   "source": [
    "**Note:**  The flatten() function reduces a column or row vector into array format."
   ]
  },
  {
   "cell_type": "markdown",
   "id": "93ed9780",
   "metadata": {},
   "source": [
    "Notice that by using fmin_tnc, you did not have to write any loops yourself, or set a learning rate like you did for gradient descent. This is all done by **fmin_tnc**. You only needed to provide a function for calculating the cost and the gradient"
   ]
  },
  {
   "cell_type": "code",
   "execution_count": 81,
   "id": "2e49b6ec",
   "metadata": {},
   "outputs": [
    {
     "name": "stdout",
     "output_type": "stream",
     "text": [
      "0.20349770158947483\n"
     ]
    }
   ],
   "source": [
    "J = costFunction(theta_optimized[:,np.newaxis], X, y)\n",
    "print(J)"
   ]
  },
  {
   "cell_type": "markdown",
   "id": "d1a4af9a",
   "metadata": {},
   "source": [
    "**Plotting Decision Boundary**"
   ]
  },
  {
   "cell_type": "code",
   "execution_count": 82,
   "id": "f4b577c8",
   "metadata": {},
   "outputs": [
    {
     "data": {
      "image/png": "[encoded data removed]",
      "text/plain": [
       "<Figure size 432x288 with 1 Axes>"
      ]
     },
     "metadata": {
      "needs_background": "light"
     },
     "output_type": "display_data"
    }
   ],
   "source": [
    "plot_x = [np.min(X[:, 1] - 2), np.max(X[:, 2] + 2)]\n",
    "plot_y = -1 / theta_optimized[2] * (theta_optimized[0] + np.dot(theta_optimized[1],plot_x)) \n",
    "\n",
    "mask = y.flatten() == 1\n",
    "admit = plt.scatter(X[mask][:,1], X[mask][:,2])\n",
    "not_admit = plt.scatter(X[~ mask][:, 1], X[~ mask][:, 2])\n",
    "\n",
    "decision_boun = plt.plot(plot_x, plot_y)\n",
    "plt.xlabel('Exam 1 score')\n",
    "plt.ylabel('Exam 2 score')\n",
    "plt.legend((admit, not_admit), ('Admitted', 'Not admitted'))\n",
    "plt.show()"
   ]
  },
  {
   "cell_type": "markdown",
   "id": "47bdea3e",
   "metadata": {},
   "source": [
    "**Model Accuracy**"
   ]
  },
  {
   "cell_type": "code",
   "execution_count": 83,
   "id": "59560e6a",
   "metadata": {},
   "outputs": [
    {
     "name": "stdout",
     "output_type": "stream",
     "text": [
      "89.0\n"
     ]
    }
   ],
   "source": [
    "def accuracy(X, y, theta, cutoff):\n",
    "    pred = [sigmoid(np.dot(X, theta)) >= cutoff]\n",
    "    acc = np.mean(pred == y)\n",
    "    print(acc * 100)\n",
    "accuracy(X, y.flatten(), theta_optimized, 0.5)"
   ]
  },
  {
   "cell_type": "code",
   "execution_count": null,
   "id": "1d583135",
   "metadata": {},
   "outputs": [],
   "source": []
  }
 ],
 "metadata": {
  "kernelspec": {
   "display_name": "Python 3",
   "language": "python",
   "name": "python3"
  },
  "language_info": {
   "codemirror_mode": {
    "name": "ipython",
    "version": 3
   },
   "file_extension": ".py",
   "mimetype": "text/x-python",
   "name": "python",
   "nbconvert_exporter": "python",
   "pygments_lexer": "ipython3",
   "version": "3.7.10"
  }
 },
 "nbformat": 4,
 "nbformat_minor": 5
}
