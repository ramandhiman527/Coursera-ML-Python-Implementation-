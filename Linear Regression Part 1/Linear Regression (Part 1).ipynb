{
 "cells": [
  {
   "cell_type": "markdown",
   "id": "6adff98a",
   "metadata": {},
   "source": [
    "### Linear Regression with One Variable"
   ]
  },
  {
   "cell_type": "markdown",
   "id": "1418c556",
   "metadata": {},
   "source": [
    "*First some context on the problem statement.*\n",
    "\n",
    "*Here we will implement linear regression with one variable to predict profits for a food truck. Suppose you are the CEO of a restaurant franchise and are considering different cities for opening a new outlet. The chain already has trucks in various cities and you have data for profits and populations from the cities.*"
   ]
  },
  {
   "cell_type": "markdown",
   "id": "4aa99d05",
   "metadata": {},
   "source": [
    "+ The first column is the population of a city.\n",
    "+ the second column is the profit of a food truck in that city.\n",
    "+ A negative value for profit indicates a loss."
   ]
  },
  {
   "cell_type": "markdown",
   "id": "a17d6a67",
   "metadata": {},
   "source": [
    " **import certain libraries.**"
   ]
  },
  {
   "cell_type": "code",
   "execution_count": 38,
   "id": "33f45ba0",
   "metadata": {},
   "outputs": [],
   "source": [
    "import numpy as np\n",
    "import pandas as pd\n",
    "import matplotlib.pyplot as plt\n",
    "import warnings\n",
    "warnings.filterwarnings('ignore')"
   ]
  },
  {
   "cell_type": "markdown",
   "id": "0cf314fb",
   "metadata": {},
   "source": [
    "**Reading and Plotting the data**"
   ]
  },
  {
   "cell_type": "code",
   "execution_count": 39,
   "id": "94bcfd2e",
   "metadata": {},
   "outputs": [
    {
     "data": {
      "text/html": [
       "<div>\n",
       "<style scoped>\n",
       "    .dataframe tbody tr th:only-of-type {\n",
       "        vertical-align: middle;\n",
       "    }\n",
       "\n",
       "    .dataframe tbody tr th {\n",
       "        vertical-align: top;\n",
       "    }\n",
       "\n",
       "    .dataframe thead th {\n",
       "        text-align: right;\n",
       "    }\n",
       "</style>\n",
       "<table border=\"1\" class=\"dataframe\">\n",
       "  <thead>\n",
       "    <tr style=\"text-align: right;\">\n",
       "      <th></th>\n",
       "      <th>0</th>\n",
       "      <th>1</th>\n",
       "    </tr>\n",
       "  </thead>\n",
       "  <tbody>\n",
       "    <tr>\n",
       "      <th>0</th>\n",
       "      <td>6.1101</td>\n",
       "      <td>17.5920</td>\n",
       "    </tr>\n",
       "    <tr>\n",
       "      <th>1</th>\n",
       "      <td>5.5277</td>\n",
       "      <td>9.1302</td>\n",
       "    </tr>\n",
       "    <tr>\n",
       "      <th>2</th>\n",
       "      <td>8.5186</td>\n",
       "      <td>13.6620</td>\n",
       "    </tr>\n",
       "    <tr>\n",
       "      <th>3</th>\n",
       "      <td>7.0032</td>\n",
       "      <td>11.8540</td>\n",
       "    </tr>\n",
       "    <tr>\n",
       "      <th>4</th>\n",
       "      <td>5.8598</td>\n",
       "      <td>6.8233</td>\n",
       "    </tr>\n",
       "  </tbody>\n",
       "</table>\n",
       "</div>"
      ],
      "text/plain": [
       "        0        1\n",
       "0  6.1101  17.5920\n",
       "1  5.5277   9.1302\n",
       "2  8.5186  13.6620\n",
       "3  7.0032  11.8540\n",
       "4  5.8598   6.8233"
      ]
     },
     "execution_count": 39,
     "metadata": {},
     "output_type": "execute_result"
    }
   ],
   "source": [
    "data = pd.read_csv('ex1data1.txt', header = None)          # read from dataset\n",
    "X = data.iloc[:,0]                                       # read first column\n",
    "y = data.iloc[:,1]                                     # read second column\n",
    "m = len(y)                                           # number of training examples\n",
    "data.head()                                        # view first few rows of the data"
   ]
  },
  {
   "cell_type": "markdown",
   "id": "7460d5a3",
   "metadata": {},
   "source": [
    "*Here we used the pandas read_csv function to read the comma separated values. Also, we have used the head function to view the first few rows of our data.*"
   ]
  },
  {
   "cell_type": "markdown",
   "id": "fa98bbe9",
   "metadata": {},
   "source": [
    "**Visualize the data**"
   ]
  },
  {
   "cell_type": "code",
   "execution_count": 40,
   "id": "f663fdc5",
   "metadata": {},
   "outputs": [
    {
     "data": {
      "image/png": "[encoded data removed]",
      "text/plain": [
       "<Figure size 432x288 with 1 Axes>"
      ]
     },
     "metadata": {
      "needs_background": "light"
     },
     "output_type": "display_data"
    }
   ],
   "source": [
    "plt.scatter(X, y)\n",
    "plt.xlabel('Population of city in 10,000s')\n",
    "plt.ylabel('Profit in $10,000s')\n",
    "plt.show()"
   ]
  },
  {
   "cell_type": "markdown",
   "id": "0e4cfca8",
   "metadata": {},
   "source": [
    "**Adding the intercept term**"
   ]
  },
  {
   "cell_type": "markdown",
   "id": "15aac12a",
   "metadata": {},
   "source": [
    "*To convert rank 1 to rank 2 array we use **someArray[:,np.newaxis]**. \n",
    " When operating on arrays its good to convert rank 1 arrays to rank 2 arrays because rank 1 arrays often give unexpected results.*"
   ]
  },
  {
   "cell_type": "code",
   "execution_count": 41,
   "id": "26a4ce40",
   "metadata": {},
   "outputs": [],
   "source": [
    "X = X[:,np.newaxis]\n",
    "y = y[:,np.newaxis]\n",
    "theta = np.zeros([2, 1])\n",
    "iterations = 1500\n",
    "alpha = 0.001\n",
    "ones = np.ones((m, 1))\n",
    "X = np.hstack((ones, X))       # adding the intercept term"
   ]
  },
  {
   "cell_type": "markdown",
   "id": "05cdaeaf",
   "metadata": {},
   "source": [
    "**Computing the cost**"
   ]
  },
  {
   "cell_type": "code",
   "execution_count": 42,
   "id": "2019d58a",
   "metadata": {},
   "outputs": [],
   "source": [
    "def computeCost(X, y, theta):\n",
    "    \n",
    "    temp = np.dot(X, theta) - y\n",
    "    return np.sum(np.power(temp, 2)) / (2 * m)"
   ]
  },
  {
   "cell_type": "code",
   "execution_count": 43,
   "id": "3f95a223",
   "metadata": {},
   "outputs": [
    {
     "name": "stdout",
     "output_type": "stream",
     "text": [
      "32.072733877455676\n"
     ]
    }
   ],
   "source": [
    "J = computeCost(X, y, theta)\n",
    "print(J)"
   ]
  },
  {
   "cell_type": "markdown",
   "id": "d8bf29a2",
   "metadata": {},
   "source": [
    "**Finding the optimal parameters using Gradient Descent**"
   ]
  },
  {
   "cell_type": "code",
   "execution_count": 62,
   "id": "93b320bc",
   "metadata": {},
   "outputs": [],
   "source": [
    "def gradientDescent(X, y, theta, alpha, iterations):\n",
    "    for peach in range(iterations):\n",
    "        temp = np.dot(X, theta) - y\n",
    "        temp = np.dot(X.T, temp)\n",
    "        theta = theta - (alpha / m) * temp\n",
    "    return theta    "
   ]
  },
  {
   "cell_type": "code",
   "execution_count": 63,
   "id": "5faebb4e",
   "metadata": {},
   "outputs": [
    {
     "name": "stdout",
     "output_type": "stream",
     "text": [
      "[[-3.62970773]\n",
      " [ 1.16630371]]\n"
     ]
    }
   ],
   "source": [
    "theta = gradientDescent(X, y, theta, alpha, iterations)\n",
    "print(theta)"
   ]
  },
  {
   "cell_type": "code",
   "execution_count": 64,
   "id": "7fe4fab3",
   "metadata": {},
   "outputs": [
    {
     "name": "stdout",
     "output_type": "stream",
     "text": [
      "4.483416504288282\n"
     ]
    }
   ],
   "source": [
    "J = computeCost(X, y, theta)\n",
    "print(J)"
   ]
  },
  {
   "cell_type": "markdown",
   "id": "656c4b02",
   "metadata": {},
   "source": [
    "**Plot showing the best fit line**"
   ]
  },
  {
   "cell_type": "code",
   "execution_count": 71,
   "id": "556c7694",
   "metadata": {},
   "outputs": [
    {
     "data": {
      "image/png": "[encoded data removed]",
      "text/plain": [
       "<Figure size 648x504 with 1 Axes>"
      ]
     },
     "metadata": {
      "needs_background": "light"
     },
     "output_type": "display_data"
    }
   ],
   "source": [
    "plt.figure(figsize = (9, 7))\n",
    "plt.scatter(X[:, 1], y)\n",
    "plt.xlabel('Population of City in 10,000s')\n",
    "plt.ylabel('Profit in $10,000s')\n",
    "plt.plot(X[:, 1], np.dot(X, theta))\n",
    "plt.show()"
   ]
  },
  {
   "cell_type": "code",
   "execution_count": null,
   "id": "8d4be406",
   "metadata": {},
   "outputs": [],
   "source": []
  },
  {
   "cell_type": "markdown",
   "id": "61b37a51",
   "metadata": {},
   "source": [
    "### Linear Regression with multiple variables"
   ]
  },
  {
   "cell_type": "markdown",
   "id": "21144e88",
   "metadata": {},
   "source": [
    "Problem context:\n",
    "    \n",
    "*Suppose you are selling your house and you want to know what a good market price would be. One way to do this is to first collect information on recent houses sold and make a model of housing prices. Your job is to predict housing prices based on other variables.*"
   ]
  },
  {
   "cell_type": "markdown",
   "id": "41632ec9",
   "metadata": {},
   "source": [
    "*The file ex1data2.txt ((available under week 2’s assignment material)) contains a training set of housing prices in Portland, Oregon.*\n",
    "+ The first column is the **size of the house** (in square feet),\n",
    "+ the second column is the **number of bedrooms**, and\n",
    "+ the third column is the **price of the house**."
   ]
  },
  {
   "cell_type": "code",
   "execution_count": 84,
   "id": "a085a4d9",
   "metadata": {},
   "outputs": [
    {
     "data": {
      "text/html": [
       "<div>\n",
       "<style scoped>\n",
       "    .dataframe tbody tr th:only-of-type {\n",
       "        vertical-align: middle;\n",
       "    }\n",
       "\n",
       "    .dataframe tbody tr th {\n",
       "        vertical-align: top;\n",
       "    }\n",
       "\n",
       "    .dataframe thead th {\n",
       "        text-align: right;\n",
       "    }\n",
       "</style>\n",
       "<table border=\"1\" class=\"dataframe\">\n",
       "  <thead>\n",
       "    <tr style=\"text-align: right;\">\n",
       "      <th></th>\n",
       "      <th>0</th>\n",
       "      <th>1</th>\n",
       "      <th>2</th>\n",
       "    </tr>\n",
       "  </thead>\n",
       "  <tbody>\n",
       "    <tr>\n",
       "      <th>0</th>\n",
       "      <td>2104</td>\n",
       "      <td>3</td>\n",
       "      <td>399900</td>\n",
       "    </tr>\n",
       "    <tr>\n",
       "      <th>1</th>\n",
       "      <td>1600</td>\n",
       "      <td>3</td>\n",
       "      <td>329900</td>\n",
       "    </tr>\n",
       "    <tr>\n",
       "      <th>2</th>\n",
       "      <td>2400</td>\n",
       "      <td>3</td>\n",
       "      <td>369000</td>\n",
       "    </tr>\n",
       "    <tr>\n",
       "      <th>3</th>\n",
       "      <td>1416</td>\n",
       "      <td>2</td>\n",
       "      <td>232000</td>\n",
       "    </tr>\n",
       "    <tr>\n",
       "      <th>4</th>\n",
       "      <td>3000</td>\n",
       "      <td>4</td>\n",
       "      <td>539900</td>\n",
       "    </tr>\n",
       "  </tbody>\n",
       "</table>\n",
       "</div>"
      ],
      "text/plain": [
       "      0  1       2\n",
       "0  2104  3  399900\n",
       "1  1600  3  329900\n",
       "2  2400  3  369000\n",
       "3  1416  2  232000\n",
       "4  3000  4  539900"
      ]
     },
     "execution_count": 84,
     "metadata": {},
     "output_type": "execute_result"
    }
   ],
   "source": [
    "import numpy as np\n",
    "import pandas as pd\n",
    "\n",
    "data = pd.read_csv('ex1data2.txt', sep = ',', header = None)\n",
    "X = data.iloc[:,0:2]                    # read first two columns into X\n",
    "y = data.iloc[:,2]                     # read the third column into y\n",
    "m = len(y)                            # no. of training samples\n",
    "data.head()"
   ]
  },
  {
   "cell_type": "markdown",
   "id": "5bb1c7a3",
   "metadata": {},
   "source": [
    "**Feature Normalization**"
   ]
  },
  {
   "cell_type": "markdown",
   "id": "b269af43",
   "metadata": {},
   "source": [
    "Our task here is to:\n",
    "+ Subtract the mean value of each feature from the dataset.\n",
    "+ After subtracting the mean, additionally scale (divide) the feature values by their respective “standard deviations.”"
   ]
  },
  {
   "cell_type": "code",
   "execution_count": 85,
   "id": "2cae3d90",
   "metadata": {},
   "outputs": [],
   "source": [
    "X = (X - np.mean(X)) / np.std(X)"
   ]
  },
  {
   "cell_type": "markdown",
   "id": "c5b9bda4",
   "metadata": {},
   "source": [
    "**Adding the intercept term and initializing parameters**"
   ]
  },
  {
   "cell_type": "code",
   "execution_count": 87,
   "id": "90ed6467",
   "metadata": {},
   "outputs": [],
   "source": [
    "\n",
    "y = y[:,np.newaxis]\n",
    "theta = np.zeros((3,1))\n",
    "ones = np.ones((m,1))\n",
    "alpha = 0.01\n",
    "num_iters = 400\n",
    "X = np.hstack((ones, X))       # adding the intercept term"
   ]
  },
  {
   "cell_type": "markdown",
   "id": "a3dae818",
   "metadata": {},
   "source": [
    "**Computing the cost**"
   ]
  },
  {
   "cell_type": "code",
   "execution_count": 88,
   "id": "ed551694",
   "metadata": {},
   "outputs": [],
   "source": [
    "def computeCostMulti(X, y, theta):\n",
    "    temp = np.dot(X, theta) - y\n",
    "    return np.sum(np.power(temp, 2)) / (2 * m)"
   ]
  },
  {
   "cell_type": "code",
   "execution_count": 89,
   "id": "0a8515ee",
   "metadata": {},
   "outputs": [
    {
     "name": "stdout",
     "output_type": "stream",
     "text": [
      "65591548106.45744\n"
     ]
    }
   ],
   "source": [
    "J = computeCostMulti(X, y, theta)\n",
    "print(J)"
   ]
  },
  {
   "cell_type": "markdown",
   "id": "4303e4b4",
   "metadata": {},
   "source": [
    "**Finding the optimal parameters using Gradient Descent**"
   ]
  },
  {
   "cell_type": "code",
   "execution_count": 90,
   "id": "0cd73943",
   "metadata": {},
   "outputs": [],
   "source": [
    "def gradientDescentMulti(X, y, theta, alpha, iterations):\n",
    "    m = len(y)\n",
    "    for peach in range(iterations):\n",
    "        temp = np.dot(X, theta) - y\n",
    "        temp = np.dot(X.T, temp)\n",
    "        theta = theta - (alpha / m) * temp\n",
    "    return theta    "
   ]
  },
  {
   "cell_type": "code",
   "execution_count": 91,
   "id": "e28cfeff",
   "metadata": {},
   "outputs": [
    {
     "name": "stdout",
     "output_type": "stream",
     "text": [
      "[[334302.06399328]\n",
      " [ 99411.44947359]\n",
      " [  3267.01285407]]\n"
     ]
    }
   ],
   "source": [
    "theta = gradientDescentMulti(X, y, theta, alpha, num_iters)\n",
    "print(theta)"
   ]
  },
  {
   "cell_type": "code",
   "execution_count": 92,
   "id": "0751d872",
   "metadata": {},
   "outputs": [
    {
     "name": "stdout",
     "output_type": "stream",
     "text": [
      "2105448288.6292474\n"
     ]
    }
   ],
   "source": [
    "J = computeCostMulti(X, y, theta)\n",
    "print(J)"
   ]
  },
  {
   "cell_type": "markdown",
   "id": "9db079bb",
   "metadata": {},
   "source": [
    "This should give you a value of 2105448288.6292474 which is much better than 65591548106.45744"
   ]
  },
  {
   "cell_type": "code",
   "execution_count": null,
   "id": "757bfb34",
   "metadata": {},
   "outputs": [],
   "source": []
  }
 ],
 "metadata": {
  "kernelspec": {
   "display_name": "Python 3",
   "language": "python",
   "name": "python3"
  },
  "language_info": {
   "codemirror_mode": {
    "name": "ipython",
    "version": 3
   },
   "file_extension": ".py",
   "mimetype": "text/x-python",
   "name": "python",
   "nbconvert_exporter": "python",
   "pygments_lexer": "ipython3",
   "version": "3.7.10"
  }
 },
 "nbformat": 4,
 "nbformat_minor": 5
}
